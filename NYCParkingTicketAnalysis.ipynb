{
 "cells": [
  {
   "cell_type": "markdown",
   "metadata": {},
   "source": [
    "##                              NYC Parking Tickets Data Assignment"
   ]
  },
  {
   "cell_type": "code",
   "execution_count": 1,
   "metadata": {},
   "outputs": [],
   "source": [
    "#### Import Libraries and Functions\n",
    "import pyspark.sql.functions as functions\n",
    "from pyspark.sql import SparkSession\n",
    "from pyspark.sql.functions import count, when, lit, col, max, regexp_replace, from_unixtime, isnan, expr, substring\n",
    "from pyspark.sql.types import IntegerType"
   ]
  },
  {
   "cell_type": "code",
   "execution_count": 2,
   "metadata": {},
   "outputs": [],
   "source": [
    "### Create a PySPark Session\n",
    "spark = SparkSession \\\n",
    "    .builder \\\n",
    "    .appName(\"PySpark DataFrame and Sql\") \\\n",
    "    .getOrCreate()"
   ]
  },
  {
   "cell_type": "code",
   "execution_count": 3,
   "metadata": {},
   "outputs": [],
   "source": [
    "## Load Data from CSV to a DataFrame\n",
    "nycDF = spark.read.format(\"csv\").option(\"header\", \"true\").load( \\\n",
    "    \"/common_folder/nyc_parking/Parking_Violations_Issued_-_Fiscal_Year_2017.csv\")"
   ]
  },
  {
   "cell_type": "code",
   "execution_count": 4,
   "metadata": {},
   "outputs": [
    {
     "data": {
      "text/plain": [
       "10803028"
      ]
     },
     "execution_count": 4,
     "metadata": {},
     "output_type": "execute_result"
    }
   ],
   "source": [
    "#### Count Number of Rows in the DF.\n",
    "nycDF.select('Summons Number').count()"
   ]
  },
  {
   "cell_type": "markdown",
   "metadata": {},
   "source": [
    "#### Total Rows in the JSON File\n",
    "There are 10803028 rows in the CSV Provided."
   ]
  },
  {
   "cell_type": "code",
   "execution_count": 5,
   "metadata": {},
   "outputs": [
    {
     "name": "stdout",
     "output_type": "stream",
     "text": [
      "+--------------+--------+------------------+----------+--------------+-----------------+------------+------------------+---------------+--------------+\n",
      "|Summons Number|Plate ID|Registration State|Issue Date|Violation Code|Vehicle Body Type|Vehicle Make|Violation Precinct|Issuer Precinct|Violation Time|\n",
      "+--------------+--------+------------------+----------+--------------+-----------------+------------+------------------+---------------+--------------+\n",
      "|    5092469481| GZH7067|                NY|2016-07-10|             7|             SUBN|       TOYOT|                 0|              0|         0143A|\n",
      "|    5092451658| GZH7067|                NY|2016-07-08|             7|             SUBN|       TOYOT|                 0|              0|         0400P|\n",
      "|    4006265037| FZX9232|                NY|2016-08-23|             5|             SUBN|        FORD|                 0|              0|         0233P|\n",
      "|    8478629828| 66623ME|                NY|2017-06-14|            47|             REFG|       MITSU|                14|             14|         1120A|\n",
      "|    7868300310| 37033JV|                NY|2016-11-21|            69|             DELV|       INTER|                13|             13|         0555P|\n",
      "+--------------+--------+------------------+----------+--------------+-----------------+------------+------------------+---------------+--------------+\n",
      "only showing top 5 rows\n",
      "\n"
     ]
    }
   ],
   "source": [
    "## List First 5 rows\n",
    "nycDF.show(5)"
   ]
  },
  {
   "cell_type": "markdown",
   "metadata": {},
   "source": [
    "#### We can see many rows with 2016 as Issue Date as well we need to remove them\n",
    "First list the datatype of each column"
   ]
  },
  {
   "cell_type": "code",
   "execution_count": 6,
   "metadata": {},
   "outputs": [
    {
     "data": {
      "text/plain": [
       "[('Summons Number', 'string'),\n",
       " ('Plate ID', 'string'),\n",
       " ('Registration State', 'string'),\n",
       " ('Issue Date', 'string'),\n",
       " ('Violation Code', 'string'),\n",
       " ('Vehicle Body Type', 'string'),\n",
       " ('Vehicle Make', 'string'),\n",
       " ('Violation Precinct', 'string'),\n",
       " ('Issuer Precinct', 'string'),\n",
       " ('Violation Time', 'string')]"
      ]
     },
     "execution_count": 6,
     "metadata": {},
     "output_type": "execute_result"
    }
   ],
   "source": [
    "nycDF.dtypes"
   ]
  },
  {
   "cell_type": "code",
   "execution_count": 7,
   "metadata": {},
   "outputs": [
    {
     "name": "stdout",
     "output_type": "stream",
     "text": [
      "+--------------+--------+------------------+----------+--------------+-----------------+------------+------------------+---------------+--------------+----------+\n",
      "|Summons Number|Plate ID|Registration State|Issue Date|Violation Code|Vehicle Body Type|Vehicle Make|Violation Precinct|Issuer Precinct|Violation Time|Issue_Date|\n",
      "+--------------+--------+------------------+----------+--------------+-----------------+------------+------------------+---------------+--------------+----------+\n",
      "|    5092469481| GZH7067|                NY|2016-07-10|             7|             SUBN|       TOYOT|                 0|              0|         0143A|2016-07-10|\n",
      "|    5092451658| GZH7067|                NY|2016-07-08|             7|             SUBN|       TOYOT|                 0|              0|         0400P|2016-07-08|\n",
      "|    4006265037| FZX9232|                NY|2016-08-23|             5|             SUBN|        FORD|                 0|              0|         0233P|2016-08-23|\n",
      "|    8478629828| 66623ME|                NY|2017-06-14|            47|             REFG|       MITSU|                14|             14|         1120A|2017-06-14|\n",
      "|    7868300310| 37033JV|                NY|2016-11-21|            69|             DELV|       INTER|                13|             13|         0555P|2016-11-21|\n",
      "+--------------+--------+------------------+----------+--------------+-----------------+------------+------------------+---------------+--------------+----------+\n",
      "only showing top 5 rows\n",
      "\n"
     ]
    }
   ],
   "source": [
    "### Convert Issue Date Column from String to Date for processing\n",
    "nycDate = nycDF.withColumn(\"Issue_Date\", (col(\"Issue Date\").cast(\"date\")))\n",
    "nycDate.show(5)"
   ]
  },
  {
   "cell_type": "code",
   "execution_count": 8,
   "metadata": {},
   "outputs": [
    {
     "data": {
      "text/plain": [
       "[('Summons Number', 'string'),\n",
       " ('Plate ID', 'string'),\n",
       " ('Registration State', 'string'),\n",
       " ('Issue Date', 'string'),\n",
       " ('Violation Code', 'string'),\n",
       " ('Vehicle Body Type', 'string'),\n",
       " ('Vehicle Make', 'string'),\n",
       " ('Violation Precinct', 'string'),\n",
       " ('Issuer Precinct', 'string'),\n",
       " ('Violation Time', 'string'),\n",
       " ('Issue_Date', 'date')]"
      ]
     },
     "execution_count": 8,
     "metadata": {},
     "output_type": "execute_result"
    }
   ],
   "source": [
    "#### Print the Datatype again to confirm\n",
    "nycDate.dtypes"
   ]
  },
  {
   "cell_type": "code",
   "execution_count": 9,
   "metadata": {},
   "outputs": [
    {
     "name": "stdout",
     "output_type": "stream",
     "text": [
      "+--------------+--------+------------------+----------+--------------+-----------------+------------+------------------+---------------+--------------+----------+\n",
      "|Summons Number|Plate ID|Registration State|Issue Date|Violation Code|Vehicle Body Type|Vehicle Make|Violation Precinct|Issuer Precinct|Violation Time|Issue_Date|\n",
      "+--------------+--------+------------------+----------+--------------+-----------------+------------+------------------+---------------+--------------+----------+\n",
      "|    5092469481| GZH7067|                NY|2016-07-10|             7|             SUBN|       TOYOT|                 0|              0|         0143A|2016-07-10|\n",
      "|    5092451658| GZH7067|                NY|2016-07-08|             7|             SUBN|       TOYOT|                 0|              0|         0400P|2016-07-08|\n",
      "|    4006265037| FZX9232|                NY|2016-08-23|             5|             SUBN|        FORD|                 0|              0|         0233P|2016-08-23|\n",
      "|    8478629828| 66623ME|                NY|2017-06-14|            47|             REFG|       MITSU|                14|             14|         1120A|2017-06-14|\n",
      "|    7868300310| 37033JV|                NY|2016-11-21|            69|             DELV|       INTER|                13|             13|         0555P|2016-11-21|\n",
      "+--------------+--------+------------------+----------+--------------+-----------------+------------+------------------+---------------+--------------+----------+\n",
      "only showing top 5 rows\n",
      "\n"
     ]
    }
   ],
   "source": [
    "### Print first 5 Rows to review\n",
    "nycDate.show(5)"
   ]
  },
  {
   "cell_type": "code",
   "execution_count": 10,
   "metadata": {},
   "outputs": [
    {
     "name": "stdout",
     "output_type": "stream",
     "text": [
      "+--------------+--------+------------------+----------+--------------+-----------------+------------+------------------+---------------+--------------+----------+\n",
      "|Summons Number|Plate ID|Registration State|Issue Date|Violation Code|Vehicle Body Type|Vehicle Make|Violation Precinct|Issuer Precinct|Violation Time|Issue_Date|\n",
      "+--------------+--------+------------------+----------+--------------+-----------------+------------+------------------+---------------+--------------+----------+\n",
      "|    8478629828| 66623ME|                NY|2017-06-14|            47|             REFG|       MITSU|                14|             14|         1120A|2017-06-14|\n",
      "|    5096917368| FZD8593|                NY|2017-06-13|             7|             SUBN|       ME/BE|                 0|              0|         0852P|2017-06-13|\n",
      "|    1407740258| 2513JMG|                NY|2017-01-11|            78|             DELV|       FRUEH|               106|            106|         0015A|2017-01-11|\n",
      "|    1413656420|T672371C|                NY|2017-02-04|            40|             TAXI|       TOYOT|                73|             73|         0525A|2017-02-04|\n",
      "|    8480309064| 51771JW|                NY|2017-01-26|            64|              VAN|       INTER|                17|             17|         0256P|2017-01-26|\n",
      "|    1416638830|  GLP367|                NY|2017-04-30|            20|             SUBN|       DODGE|                17|             17|         1232A|2017-04-30|\n",
      "|    4630524241|  HJBP29|                FL|2017-02-03|            36|               4D|         BMW|                 0|              0|         1034A|2017-02-03|\n",
      "|    8505131836| 87155MA|                NY|2017-05-27|            38|              VAN|       CHEVR|                 1|              1|         1021A|2017-05-27|\n",
      "|    8513520615| 77026MG|                NY|2017-05-31|            14|             TRAC|       VOLVO|                24|             24|         0721A|2017-05-31|\n",
      "|    8556155431| HFB9919|                NY|2017-05-26|            75|             4DSD|       DODGE|               114|            114|         0940A|2017-05-26|\n",
      "|    8483087236| 76822MH|                NY|2017-05-19|            10|             DELV|         HIN|                14|             14|         1223P|2017-05-19|\n",
      "|    8513914599| 65572JU|                NY|2017-06-09|            69|              VAN|        FORD|                19|             19|         1028A|2017-06-09|\n",
      "|    8357020770|  Y56DLT|                NJ|2017-01-20|            21|             4DSD|       CHEVR|               113|            113|         0148A|2017-01-20|\n",
      "|    7047487591| 50741JZ|                NY|2017-04-13|            38|             UTIL|         GMC|               115|            115|         1206P|2017-04-13|\n",
      "|    8122530205| 95139JC|                NY|2017-01-05|            48|             DELV|       INTER|                13|             13|         0141P|2017-01-05|\n",
      "|    1419707358|  V97GVE|                NJ|2017-02-18|            21|             SUBN|       ME/BE|                60|              0|         0822A|2017-02-18|\n",
      "|    8544889610| VVP9002|                VA|2017-06-14|            21|             4DSD|        AUDI|                72|             72|         0820A|2017-06-14|\n",
      "|    8162054819|  EW866X|                NJ|2017-01-29|            68|             4DSD|       NISSA|                84|             84|         1043A|2017-01-29|\n",
      "|    8506053195| 25868MB|                NY|2017-01-25|            51|              VAN|        FORD|                 1|              1|         0204P|2017-01-25|\n",
      "|    8534116519| CES6482|                NY|2017-06-12|             9|             SUBN|       TOYOT|                81|             81|         0853A|2017-06-12|\n",
      "+--------------+--------+------------------+----------+--------------+-----------------+------------+------------------+---------------+--------------+----------+\n",
      "only showing top 20 rows\n",
      "\n"
     ]
    }
   ],
   "source": [
    "#### Filter Rows between 31st of Dec 2016 and 1st of Jan 2019\n",
    "nycDF = nycDate.filter((nycDate[\"Issue_Date\"] > \"2016-12-31\") & (nycDate[\"Issue_Date\"] < \"2018-01-01\"))\n",
    "nycDF.show()"
   ]
  },
  {
   "cell_type": "code",
   "execution_count": 11,
   "metadata": {},
   "outputs": [
    {
     "data": {
      "text/plain": [
       "5431918"
      ]
     },
     "execution_count": 11,
     "metadata": {},
     "output_type": "execute_result"
    }
   ],
   "source": [
    "#### Count Number of Rows in the DF.\n",
    "nycDF.select('Summons Number').count()"
   ]
  },
  {
   "cell_type": "code",
   "execution_count": 12,
   "metadata": {},
   "outputs": [
    {
     "data": {
      "text/plain": [
       "5431918"
      ]
     },
     "execution_count": 12,
     "metadata": {},
     "output_type": "execute_result"
    }
   ],
   "source": [
    "### Just to make sure there are no Duplicates printing out unique Tickets\n",
    "#nycDF.select(\"Summons Number\").unique().show()\n",
    "nycDF.select('Summons Number').distinct().count()"
   ]
  },
  {
   "cell_type": "markdown",
   "metadata": {},
   "source": [
    "### Ques 1. Find the total number of tickets for the year.\n",
    "Ans: There are 5431918 Tickets Issues in the year 2017"
   ]
  },
  {
   "cell_type": "code",
   "execution_count": 13,
   "metadata": {},
   "outputs": [
    {
     "name": "stdout",
     "output_type": "stream",
     "text": [
      "+--------------+----------+------------------+----------+--------------+-----------------+------------+------------------+---------------+--------------+----------+\n",
      "|Summons Number|  Plate ID|Registration State|Issue Date|Violation Code|Vehicle Body Type|Vehicle Make|Violation Precinct|Issuer Precinct|Violation Time|Issue_Date|\n",
      "+--------------+----------+------------------+----------+--------------+-----------------+------------+------------------+---------------+--------------+----------+\n",
      "|    1420029915|   53468JZ|                99|2017-04-27|            21|              VAN|       CHEVR|               108|              0|         1255A|2017-04-27|\n",
      "|    1411263467|BLANKPLATE|                99|2017-02-13|            74|              SDN|       NISSA|               121|            121|         0951A|2017-02-13|\n",
      "|    1420388526|   7CH4978|                99|2017-04-10|            99|              SDN|       CHEVR|                44|             44|         1050P|2017-04-10|\n",
      "|    8474166482|BLANKPLATE|                99|2017-03-18|            38|             4DSD|       CHEVR|               106|            106|         0513P|2017-03-18|\n",
      "|    1414000455|   BML5364|                99|2017-01-02|            71|             SUBN|       SUZUK|                47|             47|         0931P|2017-01-02|\n",
      "|    1416961653|   GBN3568|                99|2017-04-29|            74|             TWOD|        AUDI|                20|             20|         0758A|2017-04-29|\n",
      "|    1423473991|   HCY4580|                99|2017-06-13|            71|              SDN|       HONDA|                 9|            110|         1039A|2017-06-13|\n",
      "|    1419666265|   BD93477|                99|2017-03-22|            66|             TRAI|         nan|                63|              0|         0815A|2017-03-22|\n",
      "|    1402452718|    H49FBJ|                99|2017-01-18|            99|             SUBN|       DODGE|               101|            101|         0926A|2017-01-18|\n",
      "|    1408981609|BLANKPLATE|                99|2017-05-30|            74|             SUBN|       HONDA|               123|            123|         0635A|2017-05-30|\n",
      "|    8156554462|BLANKPLATE|                99|2017-01-18|            20|              nan|         nan|                83|             83|         0407P|2017-01-18|\n",
      "|    1419947140|  TK608NAR|                99|2017-03-30|            40|             DELV|       MORGA|                88|             88|         0218A|2017-03-30|\n",
      "|    1408798529|   GWJ1372|                99|2017-04-23|            70|              SDN|        HYUN|                60|            420|         1025A|2017-04-23|\n",
      "|    1420631548|BLANKPLATE|                99|2017-04-05|            70|              MCY|       YAMAH|               114|            114|         0657P|2017-04-05|\n",
      "|    1420689551|   12358MC|                99|2017-03-08|            46|             DELV|       FRUEH|               109|            109|         0445P|2017-03-08|\n",
      "|    1423985527|    XEWL33|                99|2017-04-19|            53|             DELV|         HIN|                 7|              0|         0951A|2017-04-19|\n",
      "|    1417052673|   HGW1161|                99|2017-03-31|            46|              SDN|       ACURA|                75|             75|         1051P|2017-03-31|\n",
      "|    1420990317|    8353PJ|                99|2017-03-07|            20|             TRAC|       FRUEH|                71|             71|         0358A|2017-03-07|\n",
      "|    8233557420|BLANKPLATE|                99|2017-03-24|            74|             2DSD|       HONDA|               106|            106|         0456P|2017-03-24|\n",
      "|    8505219958|BLANKPLATE|                99|2017-06-01|            71|              MCY|       YAMAH|                 1|              1|         0412P|2017-06-01|\n",
      "+--------------+----------+------------------+----------+--------------+-----------------+------------+------------------+---------------+--------------+----------+\n",
      "only showing top 20 rows\n",
      "\n"
     ]
    }
   ],
   "source": [
    "#### Checking for City with value 99\n",
    "nycDF.filter(nycDF['Registration State'] == '99').show()"
   ]
  },
  {
   "cell_type": "markdown",
   "metadata": {},
   "source": [
    "##### As mentioned in the Problem Statement Registration State 99 doesnt mean anything so replacing that with the State with most number of appearences in the Dataset"
   ]
  },
  {
   "cell_type": "code",
   "execution_count": 14,
   "metadata": {},
   "outputs": [
    {
     "data": {
      "text/plain": [
       "'NY'"
      ]
     },
     "execution_count": 14,
     "metadata": {},
     "output_type": "execute_result"
    }
   ],
   "source": [
    "### Get the State with Maximum count\n",
    "maxCountCity = nycDF.select('Registration State').groupBy(nycDF['Registration State']\n",
    "                                                         ).count().sort(col(\"count\").desc()).collect()[0][0]\n",
    "maxCountCity"
   ]
  },
  {
   "cell_type": "code",
   "execution_count": 15,
   "metadata": {},
   "outputs": [],
   "source": [
    "## Replace 99 with the State Found from above statement\n",
    "nycDF = nycDF.withColumn('Registration State', when(nycDF['Registration State'] == '99', lit(maxCountCity)).otherwise(nycDF['Registration State']))"
   ]
  },
  {
   "cell_type": "code",
   "execution_count": 16,
   "metadata": {},
   "outputs": [
    {
     "name": "stdout",
     "output_type": "stream",
     "text": [
      "+--------------+--------+------------------+----------+--------------+-----------------+------------+------------------+---------------+--------------+----------+\n",
      "|Summons Number|Plate ID|Registration State|Issue Date|Violation Code|Vehicle Body Type|Vehicle Make|Violation Precinct|Issuer Precinct|Violation Time|Issue_Date|\n",
      "+--------------+--------+------------------+----------+--------------+-----------------+------------+------------------+---------------+--------------+----------+\n",
      "+--------------+--------+------------------+----------+--------------+-----------------+------------+------------------+---------------+--------------+----------+\n",
      "\n"
     ]
    }
   ],
   "source": [
    "### Checking for rows with Registration State as 99 Again \n",
    "nycDF.filter(nycDF['Registration State'] == '99').show()"
   ]
  },
  {
   "cell_type": "markdown",
   "metadata": {},
   "source": [
    "###### ===================== So no more Registration State with Values as 99 ===================="
   ]
  },
  {
   "cell_type": "code",
   "execution_count": 17,
   "metadata": {},
   "outputs": [
    {
     "name": "stdout",
     "output_type": "stream",
     "text": [
      "+--------------+--------+------------------+----------+--------------+-----------------+------------+------------------+---------------+--------------+----------+\n",
      "|Summons Number|Plate ID|Registration State|Issue Date|Violation Code|Vehicle Body Type|Vehicle Make|Violation Precinct|Issuer Precinct|Violation Time|Issue_Date|\n",
      "+--------------+--------+------------------+----------+--------------+-----------------+------------+------------------+---------------+--------------+----------+\n",
      "|             0|       0|                 0|         0|             0|                0|           0|                 0|              0|             0|         0|\n",
      "+--------------+--------+------------------+----------+--------------+-----------------+------------+------------------+---------------+--------------+----------+\n",
      "\n"
     ]
    }
   ],
   "source": [
    "#### Checking for Null Values\n",
    "nycDFNull = nycDF.agg(*[functions.count(functions.when(functions.isnull(c), c)).alias(c) for c in nycDF.columns])\n",
    "nycDFNull.show(5)"
   ]
  },
  {
   "cell_type": "markdown",
   "metadata": {},
   "source": [
    "###### ================================== No Null Values ========================================="
   ]
  },
  {
   "cell_type": "markdown",
   "metadata": {},
   "source": [
    "### Ques 2. Find out the number of unique states from where the cars that got parking tickets came\n",
    "Ans: There are 64 Unique states in the Dataset."
   ]
  },
  {
   "cell_type": "code",
   "execution_count": 18,
   "metadata": {},
   "outputs": [
    {
     "data": {
      "text/plain": [
       "64"
      ]
     },
     "execution_count": 18,
     "metadata": {},
     "output_type": "execute_result"
    }
   ],
   "source": [
    "### CReating a new DF with Unique Registration State\n",
    "DistinctState = nycDF.groupby(nycDF[\"Registration State\"]).count()\n",
    "DistinctState.select('Registration State').distinct().count()"
   ]
  },
  {
   "cell_type": "code",
   "execution_count": 19,
   "metadata": {},
   "outputs": [
    {
     "name": "stdout",
     "output_type": "stream",
     "text": [
      "+-----------+--------+------------------+----------+--------------+----------------+------------+--------------+---------------+--------------+----------+\n",
      "|Summons_num|Plate_ID|Registration_State|Issue_Date|Violation_Code|Vehicle_BodyType|Vehicle_Make|Violation_Prec|Issuer_Precinct|Violation_Time|Issue_Date|\n",
      "+-----------+--------+------------------+----------+--------------+----------------+------------+--------------+---------------+--------------+----------+\n",
      "| 8478629828| 66623ME|                NY|2017-06-14|            47|            REFG|       MITSU|            14|             14|         1120A|2017-06-14|\n",
      "| 5096917368| FZD8593|                NY|2017-06-13|             7|            SUBN|       ME/BE|             0|              0|         0852P|2017-06-13|\n",
      "| 1407740258| 2513JMG|                NY|2017-01-11|            78|            DELV|       FRUEH|           106|            106|         0015A|2017-01-11|\n",
      "| 1413656420|T672371C|                NY|2017-02-04|            40|            TAXI|       TOYOT|            73|             73|         0525A|2017-02-04|\n",
      "| 8480309064| 51771JW|                NY|2017-01-26|            64|             VAN|       INTER|            17|             17|         0256P|2017-01-26|\n",
      "+-----------+--------+------------------+----------+--------------+----------------+------------+--------------+---------------+--------------+----------+\n",
      "only showing top 5 rows\n",
      "\n"
     ]
    }
   ],
   "source": [
    "#### Renaming Columns\n",
    "nycDF = nycDF.withColumnRenamed(\"Summons Number\", \"Summons_num\").withColumnRenamed(\"Plate ID\", \"Plate_ID\") \\\n",
    ".withColumnRenamed(\"Registration State\", \"Registration_State\") \\\n",
    ".withColumnRenamed(\"Issue Date\", \"Issue_Date\") \\\n",
    ".withColumnRenamed(\"Violation Code\", \"Violation_Code\") \\\n",
    ".withColumnRenamed(\"Vehicle Body Type\", \"Vehicle_BodyType\") \\\n",
    ".withColumnRenamed(\"Vehicle Make\", \"Vehicle_Make\") \\\n",
    ".withColumnRenamed(\"Violation Precinct\", \"Violation_Prec\") \\\n",
    ".withColumnRenamed(\"Issuer Precinct\", \"Issuer_Precinct\") \\\n",
    ".withColumnRenamed(\"Violation Time\", \"Violation_Time\") \\\n",
    ".withColumnRenamed(\"New Date\", \"New_Date\") \\\n",
    "\n",
    "nycDF.show(5)"
   ]
  },
  {
   "cell_type": "markdown",
   "metadata": {},
   "source": [
    "### =================================== Aggregation Task ==================================="
   ]
  },
  {
   "cell_type": "markdown",
   "metadata": {},
   "source": [
    "### Ques. 1 How often does each violation code occur? Display the frequency of the top five violation codes."
   ]
  },
  {
   "cell_type": "code",
   "execution_count": 20,
   "metadata": {},
   "outputs": [
    {
     "name": "stdout",
     "output_type": "stream",
     "text": [
      "+--------------+------+\n",
      "|Violation_Code| count|\n",
      "+--------------+------+\n",
      "|            21|768087|\n",
      "|            36|662765|\n",
      "|            38|542079|\n",
      "|            14|476664|\n",
      "|            20|319646|\n",
      "+--------------+------+\n",
      "only showing top 5 rows\n",
      "\n"
     ]
    }
   ],
   "source": [
    "### 5 Most Occuring Voilation Codes OverAll\n",
    "nycDF.select('Violation_Code').groupBy(nycDF['Violation_Code']\n",
    "                                                         ).count().sort(col(\"count\").desc()).show(5)"
   ]
  },
  {
   "cell_type": "markdown",
   "metadata": {},
   "source": [
    "### Ques. 2 How often does each 'vehicle body type' get a parking ticket? How about the 'vehicle make'? "
   ]
  },
  {
   "cell_type": "code",
   "execution_count": 21,
   "metadata": {},
   "outputs": [
    {
     "name": "stdout",
     "output_type": "stream",
     "text": [
      "+----------------+-------+\n",
      "|Vehicle_BodyType|  count|\n",
      "+----------------+-------+\n",
      "|            SUBN|1883954|\n",
      "|            4DSD|1547312|\n",
      "|             VAN| 724029|\n",
      "|            DELV| 358984|\n",
      "|             SDN| 194197|\n",
      "+----------------+-------+\n",
      "only showing top 5 rows\n",
      "\n"
     ]
    }
   ],
   "source": [
    "### Displaying top 5 Vehicle Body Type getting tickets more often\n",
    "nycDF.select('Vehicle_BodyType').groupBy(nycDF['Vehicle_BodyType']\n",
    "                                                         ).count().sort(col(\"count\").desc()).show(5)"
   ]
  },
  {
   "cell_type": "code",
   "execution_count": 22,
   "metadata": {},
   "outputs": [
    {
     "name": "stdout",
     "output_type": "stream",
     "text": [
      "+------------+------+\n",
      "|Vehicle_Make| count|\n",
      "+------------+------+\n",
      "|        FORD|636844|\n",
      "|       TOYOT|605291|\n",
      "|       HONDA|538884|\n",
      "|       NISSA|462017|\n",
      "|       CHEVR|356032|\n",
      "+------------+------+\n",
      "only showing top 5 rows\n",
      "\n"
     ]
    }
   ],
   "source": [
    "### Displaying top 5 Vehicle Make getting tickets more often\n",
    "nycDF.select('Vehicle_Make').groupBy(nycDF['Vehicle_Make']\n",
    "                                                         ).count().sort(col(\"count\").desc()).show(5)"
   ]
  },
  {
   "cell_type": "markdown",
   "metadata": {},
   "source": [
    "### Ques. 3 A precinct is a police station that has a certain zone of the city under its command. Find the (5 highest) frequencies of tickets for each of the following:\n",
    "### --> 'Violation Precinct' (This is the precinct of the zone where the violation occurred). Using this, can you draw any insights for parking violations in any specific areas of the city?\n",
    "### --> 'Issuer Precinct' (This is the precinct that issued the ticket.) Here, you would have noticed that the dataframe has the'Violating Precinct' or 'Issuing Precinct' as '0'. These are erroneous entries. Hence, you need to provide the records for five correct precincts. "
   ]
  },
  {
   "cell_type": "code",
   "execution_count": 23,
   "metadata": {},
   "outputs": [
    {
     "name": "stdout",
     "output_type": "stream",
     "text": [
      "+--------------+------+\n",
      "|Violation_Prec| count|\n",
      "+--------------+------+\n",
      "|             0|925596|\n",
      "|            19|274445|\n",
      "|            14|203553|\n",
      "|             1|174702|\n",
      "|            18|169131|\n",
      "|           114|147444|\n",
      "+--------------+------+\n",
      "only showing top 6 rows\n",
      "\n"
     ]
    }
   ],
   "source": [
    "#### Displaying First 6 Rows for Voilation Precint \n",
    "nycDF.select('Violation_Prec').groupBy(nycDF['Violation_Prec']\n",
    "                                                         ).count().sort(col(\"count\").desc()).show(6)"
   ]
  },
  {
   "cell_type": "code",
   "execution_count": 24,
   "metadata": {},
   "outputs": [
    {
     "name": "stdout",
     "output_type": "stream",
     "text": [
      "+---------------+-------+\n",
      "|Issuer_Precinct|  count|\n",
      "+---------------+-------+\n",
      "|              0|1078406|\n",
      "|             19| 266961|\n",
      "|             14| 200495|\n",
      "|              1| 168740|\n",
      "|             18| 162994|\n",
      "|            114| 144054|\n",
      "+---------------+-------+\n",
      "only showing top 6 rows\n",
      "\n"
     ]
    }
   ],
   "source": [
    "#### Displaying First 6 Rows for Issues Precint \n",
    "nycDF.select('Issuer_Precinct').groupBy(nycDF['Issuer_Precinct']\n",
    "                                                         ).count().sort(col(\"count\").desc()).show(6)"
   ]
  },
  {
   "cell_type": "markdown",
   "metadata": {},
   "source": [
    "### Ques. 4 Find the violation code frequencies for three precincts that have issued the most number of tickets. Do these precinct zones have an exceptionally high frequency of certain violation codes? Are these codes common across precincts? "
   ]
  },
  {
   "cell_type": "code",
   "execution_count": 25,
   "metadata": {
    "scrolled": true
   },
   "outputs": [
    {
     "name": "stdout",
     "output_type": "stream",
     "text": [
      "+---------------+--------------+-----+\n",
      "|Issuer_Precinct|Violation_Code|count|\n",
      "+---------------+--------------+-----+\n",
      "|             19|            46|48445|\n",
      "|             14|            14|45036|\n",
      "|              1|            14|38354|\n",
      "|             19|            38|36386|\n",
      "|             19|            37|36056|\n",
      "|             14|            69|30464|\n",
      "|             19|            14|29797|\n",
      "|             19|            21|28415|\n",
      "|             14|            31|22555|\n",
      "|              1|            16|19081|\n",
      "|             14|            47|18364|\n",
      "|              1|            20|15408|\n",
      "|             19|            20|14629|\n",
      "|              1|            46|12745|\n",
      "|             19|            40|11416|\n",
      "|             14|            42|10027|\n",
      "|             19|            16| 9926|\n",
      "|              1|            38| 8535|\n",
      "|             14|            46| 7679|\n",
      "|              1|            17| 7526|\n",
      "+---------------+--------------+-----+\n",
      "only showing top 20 rows\n",
      "\n"
     ]
    }
   ],
   "source": [
    "nycDF.filter((nycDF[\"Issuer_Precinct\"] == \"19\") | (nycDF[\"Issuer_Precinct\"] == \"14\") | \\\n",
    "             (nycDF[\"Issuer_Precinct\"] == \"1\")).select('Issuer_Precinct', 'Violation_Code') \\\n",
    ".groupby('Issuer_Precinct', 'Violation_Code').count() \\\n",
    ".sort(col(\"count\").desc()).show()\n"
   ]
  },
  {
   "cell_type": "markdown",
   "metadata": {},
   "source": [
    "#### Listing out Frequencies of Voilation Codes for the top three Issuer Precinct \n",
    "we can see there are few Voilation code featuring more often than others,\n",
    "\n",
    "##### Yes some precinct zones have an exceptionally high frequency of certain violation codes and they are common as well.\n",
    "Here are some of the Voilation Codes:\n",
    "###### Voilation Code No. 46.\n",
    "Issuer_Precinct: 1      Count: 12745\n",
    "\n",
    "Issuer_Precinct: 14     Count: 7679\n",
    "\n",
    "Issuer_Precinct: 19     Count: 48445\n",
    "\n",
    "###### Voilation Code No. 14.\n",
    "Issuer_Precinct: 1      Count:12745\n",
    "\n",
    "Issuer_Precinct: 14     Count: 45036\n",
    "\n",
    "Issuer_Precinct: 19     Count: 48445\n",
    "\n",
    "Also Some other Voilation Codes with high count,\n",
    "###### Voilation Code \n",
    "###### 38\n",
    "Issuer_Precinct: 19     Count: 36386\n",
    "\n",
    "Issuer_Precinct: 1      Count: 8535\n",
    "\n"
   ]
  },
  {
   "cell_type": "markdown",
   "metadata": {},
   "source": [
    "### Ques. 5 Find out the properties of parking violations across different times of the day:\n",
    "#### Find a way to deal with missing values, if any."
   ]
  },
  {
   "cell_type": "code",
   "execution_count": 26,
   "metadata": {},
   "outputs": [
    {
     "name": "stdout",
     "output_type": "stream",
     "text": [
      "+-----------+--------+------------------+----------+--------------+----------------+------------+--------------+---------------+--------------+----------+\n",
      "|Summons_num|Plate_ID|Registration_State|Issue_Date|Violation_Code|Vehicle_BodyType|Vehicle_Make|Violation_Prec|Issuer_Precinct|Violation_Time|Issue_Date|\n",
      "+-----------+--------+------------------+----------+--------------+----------------+------------+--------------+---------------+--------------+----------+\n",
      "+-----------+--------+------------------+----------+--------------+----------------+------------+--------------+---------------+--------------+----------+\n",
      "\n"
     ]
    }
   ],
   "source": [
    "#### Checking for Null Values\n",
    "# No Null Values Returned\n",
    "nycDF.where(nycDF.Violation_Time.isNull()).show()"
   ]
  },
  {
   "cell_type": "code",
   "execution_count": 27,
   "metadata": {},
   "outputs": [
    {
     "name": "stdout",
     "output_type": "stream",
     "text": [
      "+-----------+--------+------------------+----------+--------------+----------------+------------+--------------+---------------+--------------+----------+\n",
      "|Summons_num|Plate_ID|Registration_State|Issue_Date|Violation_Code|Vehicle_BodyType|Vehicle_Make|Violation_Prec|Issuer_Precinct|Violation_Time|Issue_Date|\n",
      "+-----------+--------+------------------+----------+--------------+----------------+------------+--------------+---------------+--------------+----------+\n",
      "+-----------+--------+------------------+----------+--------------+----------------+------------+--------------+---------------+--------------+----------+\n",
      "\n"
     ]
    }
   ],
   "source": [
    "### Checking for Blank entries\n",
    "nycDF.where(nycDF.Violation_Time == '').show()"
   ]
  },
  {
   "cell_type": "code",
   "execution_count": 28,
   "metadata": {},
   "outputs": [
    {
     "name": "stdout",
     "output_type": "stream",
     "text": [
      "+-----------+--------+------------------+----------+--------------+----------------+------------+--------------+---------------+--------------+----------+\n",
      "|Summons_num|Plate_ID|Registration_State|Issue_Date|Violation_Code|Vehicle_BodyType|Vehicle_Make|Violation_Prec|Issuer_Precinct|Violation_Time|Issue_Date|\n",
      "+-----------+--------+------------------+----------+--------------+----------------+------------+--------------+---------------+--------------+----------+\n",
      "+-----------+--------+------------------+----------+--------------+----------------+------------+--------------+---------------+--------------+----------+\n",
      "\n"
     ]
    }
   ],
   "source": [
    "### Checking for Zero Values\n",
    "nycDF.where(nycDF.Violation_Time == 0).show()"
   ]
  },
  {
   "cell_type": "code",
   "execution_count": 29,
   "metadata": {},
   "outputs": [
    {
     "name": "stdout",
     "output_type": "stream",
     "text": [
      "+-----------+--------+------------------+--------------+----------------+------------+--------------+---------------+--------------+\n",
      "|Summons_num|Plate_ID|Registration_State|Violation_Code|Vehicle_BodyType|Vehicle_Make|Violation_Prec|Issuer_Precinct|Violation_Time|\n",
      "+-----------+--------+------------------+--------------+----------------+------------+--------------+---------------+--------------+\n",
      "|          0|       0|                 0|             0|               0|           0|             0|              0|             0|\n",
      "+-----------+--------+------------------+--------------+----------------+------------+--------------+---------------+--------------+\n",
      "\n"
     ]
    }
   ],
   "source": [
    "### Although we have already checked for Null values again checking for Same, and we do not find a Null Values in\n",
    "### in the DataFrame.\n",
    "nycDFnoDate = nycDF.drop('Issue_Date')\n",
    "nycDFnoDate.select([count(when(isnan(c) | col(c).isNull(), c)).alias(c) for c in nycDFnoDate.columns]).show()"
   ]
  },
  {
   "cell_type": "code",
   "execution_count": 30,
   "metadata": {},
   "outputs": [
    {
     "name": "stdout",
     "output_type": "stream",
     "text": [
      "+--------------+\n",
      "|Violation_Time|\n",
      "+--------------+\n",
      "|         1120A|\n",
      "|         0852P|\n",
      "|         0015A|\n",
      "|         0525A|\n",
      "|         0256P|\n",
      "|         1232A|\n",
      "|         1034A|\n",
      "|         1021A|\n",
      "|         0721A|\n",
      "|         0940A|\n",
      "|         1223P|\n",
      "|         1028A|\n",
      "|         0148A|\n",
      "|         1206P|\n",
      "|         0141P|\n",
      "|         0822A|\n",
      "|         0820A|\n",
      "|         1043A|\n",
      "|         0204P|\n",
      "|         0853A|\n",
      "+--------------+\n",
      "only showing top 20 rows\n",
      "\n"
     ]
    }
   ],
   "source": [
    "#### Check for the Format of Voilation Time.\n",
    "nycDF.select(nycDF.Violation_Time).show()"
   ]
  },
  {
   "cell_type": "code",
   "execution_count": 31,
   "metadata": {},
   "outputs": [],
   "source": [
    "from pyspark.sql.functions import concat"
   ]
  },
  {
   "cell_type": "code",
   "execution_count": 32,
   "metadata": {
    "scrolled": true
   },
   "outputs": [
    {
     "name": "stdout",
     "output_type": "stream",
     "text": [
      "+-----------+--------+------------------+----------+--------------+----------------+------------+--------------+---------------+--------------+----------+--------+--------+-------+-----------------+\n",
      "|Summons_num|Plate_ID|Registration_State|Issue_Date|Violation_Code|Vehicle_BodyType|Vehicle_Make|Violation_Prec|Issuer_Precinct|Violation_Time|Issue_Date|TimeAbbr|TimeHour|MinHour|Violation_TimeNew|\n",
      "+-----------+--------+------------------+----------+--------------+----------------+------------+--------------+---------------+--------------+----------+--------+--------+-------+-----------------+\n",
      "| 8478629828| 66623ME|                NY|2017-06-14|            47|            REFG|       MITSU|            14|             14|          1120|2017-06-14|       A|      11|     20|            11:20|\n",
      "| 5096917368| FZD8593|                NY|2017-06-13|             7|            SUBN|       ME/BE|             0|              0|          0852|2017-06-13|       P|      20|     52|            20:52|\n",
      "| 1407740258| 2513JMG|                NY|2017-01-11|            78|            DELV|       FRUEH|           106|            106|          0015|2017-01-11|       A|       0|     15|             0:15|\n",
      "| 1413656420|T672371C|                NY|2017-02-04|            40|            TAXI|       TOYOT|            73|             73|          0525|2017-02-04|       A|       5|     25|             5:25|\n",
      "| 8480309064| 51771JW|                NY|2017-01-26|            64|             VAN|       INTER|            17|             17|          0256|2017-01-26|       P|      14|     56|            14:56|\n",
      "| 1416638830|  GLP367|                NY|2017-04-30|            20|            SUBN|       DODGE|            17|             17|          1232|2017-04-30|       A|      12|     32|            12:32|\n",
      "| 4630524241|  HJBP29|                FL|2017-02-03|            36|              4D|         BMW|             0|              0|          1034|2017-02-03|       A|      10|     34|            10:34|\n",
      "| 8505131836| 87155MA|                NY|2017-05-27|            38|             VAN|       CHEVR|             1|              1|          1021|2017-05-27|       A|      10|     21|            10:21|\n",
      "| 8513520615| 77026MG|                NY|2017-05-31|            14|            TRAC|       VOLVO|            24|             24|          0721|2017-05-31|       A|       7|     21|             7:21|\n",
      "| 8556155431| HFB9919|                NY|2017-05-26|            75|            4DSD|       DODGE|           114|            114|          0940|2017-05-26|       A|       9|     40|             9:40|\n",
      "| 8483087236| 76822MH|                NY|2017-05-19|            10|            DELV|         HIN|            14|             14|          1223|2017-05-19|       P|      12|     23|            12:23|\n",
      "| 8513914599| 65572JU|                NY|2017-06-09|            69|             VAN|        FORD|            19|             19|          1028|2017-06-09|       A|      10|     28|            10:28|\n",
      "| 8357020770|  Y56DLT|                NJ|2017-01-20|            21|            4DSD|       CHEVR|           113|            113|          0148|2017-01-20|       A|       1|     48|             1:48|\n",
      "| 7047487591| 50741JZ|                NY|2017-04-13|            38|            UTIL|         GMC|           115|            115|          1206|2017-04-13|       P|      12|     06|            12:06|\n",
      "| 8122530205| 95139JC|                NY|2017-01-05|            48|            DELV|       INTER|            13|             13|          0141|2017-01-05|       P|      13|     41|            13:41|\n",
      "| 1419707358|  V97GVE|                NJ|2017-02-18|            21|            SUBN|       ME/BE|            60|              0|          0822|2017-02-18|       A|       8|     22|             8:22|\n",
      "| 8544889610| VVP9002|                VA|2017-06-14|            21|            4DSD|        AUDI|            72|             72|          0820|2017-06-14|       A|       8|     20|             8:20|\n",
      "| 8162054819|  EW866X|                NJ|2017-01-29|            68|            4DSD|       NISSA|            84|             84|          1043|2017-01-29|       A|      10|     43|            10:43|\n",
      "| 8506053195| 25868MB|                NY|2017-01-25|            51|             VAN|        FORD|             1|              1|          0204|2017-01-25|       P|      14|     04|            14:04|\n",
      "| 8534116519| CES6482|                NY|2017-06-12|             9|            SUBN|       TOYOT|            81|             81|          0853|2017-06-12|       A|       8|     53|             8:53|\n",
      "+-----------+--------+------------------+----------+--------------+----------------+------------+--------------+---------------+--------------+----------+--------+--------+-------+-----------------+\n",
      "only showing top 20 rows\n",
      "\n"
     ]
    }
   ],
   "source": [
    "### Create New Columns for Time and Bucketing of Times\n",
    "nycDF = nycDF.withColumn(\"TimeAbbr\", substring(col('Violation_Time'), -1, 1))\n",
    "nycDF = nycDF.withColumn(\"TimeHour\", substring(col('Violation_Time'), 1, 2))\n",
    "nycDF = nycDF.withColumn(\"MinHour\", substring(col('Violation_Time'), 3, 2))\n",
    "nycDF = nycDF.withColumn(\"Violation_Time\",expr(\"substring(Violation_Time, 1, length(Violation_Time)-1)\"))\n",
    "nycDF = nycDF.withColumn('TimeHour', when(nycDF['TimeAbbr'] == 'P', \\\n",
    "                                                   nycDF['TimeHour'] + 12).otherwise( nycDF['TimeHour']))\n",
    "nycDF = nycDF.withColumn(\"TimeHour\", when((nycDF[\"TimeHour\"] == 24) & (nycDF[\"TimeAbbr\"] == \"A\"), 0) \\\n",
    "                         .otherwise(nycDF['TimeHour']))\n",
    "nycDF = nycDF.withColumn(\"TimeHour\", when((nycDF[\"TimeHour\"] == 24) & (nycDF[\"TimeAbbr\"] == \"P\"), 12) \\\n",
    "                         .otherwise(nycDF['TimeHour']).cast(\"int\"))\n",
    "nycDF.withColumn(\"Violation_TimeNew\", concat(col(\"TimeHour\"), lit(\":\"), col(\"MinHour\"))).show()"
   ]
  },
  {
   "cell_type": "code",
   "execution_count": 33,
   "metadata": {},
   "outputs": [],
   "source": [
    "#### Divide 24 hours into six equal discrete bins of time. Choose the intervals as you see fit. \n",
    "#### For each of these groups, find the three most commonly occurring violations.\n",
    "from pyspark.ml.feature import Bucketizer\n",
    "bucketizer = Bucketizer(splits=[ 0, 4, 8, 12, 16, 20, 24],inputCol=\"TimeHour\", outputCol=\"buckets\")\n",
    "nycDF1 = bucketizer.setHandleInvalid(\"keep\").transform(nycDF)"
   ]
  },
  {
   "cell_type": "code",
   "execution_count": 34,
   "metadata": {},
   "outputs": [],
   "source": [
    "nycDF1 = nycDF1.withColumn(\"buckets\", (col(\"buckets\").cast(\"string\")))"
   ]
  },
  {
   "cell_type": "code",
   "execution_count": 35,
   "metadata": {
    "scrolled": true
   },
   "outputs": [
    {
     "name": "stdout",
     "output_type": "stream",
     "text": [
      "root\n",
      " |-- Summons_num: string (nullable = true)\n",
      " |-- Plate_ID: string (nullable = true)\n",
      " |-- Registration_State: string (nullable = true)\n",
      " |-- Issue_Date: string (nullable = true)\n",
      " |-- Violation_Code: string (nullable = true)\n",
      " |-- Vehicle_BodyType: string (nullable = true)\n",
      " |-- Vehicle_Make: string (nullable = true)\n",
      " |-- Violation_Prec: string (nullable = true)\n",
      " |-- Issuer_Precinct: string (nullable = true)\n",
      " |-- Violation_Time: string (nullable = true)\n",
      " |-- Issue_Date: date (nullable = true)\n",
      " |-- TimeAbbr: string (nullable = true)\n",
      " |-- TimeHour: integer (nullable = true)\n",
      " |-- MinHour: string (nullable = true)\n",
      " |-- buckets: string (nullable = true)\n",
      "\n"
     ]
    }
   ],
   "source": [
    "nycDF1.printSchema()"
   ]
  },
  {
   "cell_type": "code",
   "execution_count": 36,
   "metadata": {
    "scrolled": true
   },
   "outputs": [
    {
     "name": "stdout",
     "output_type": "stream",
     "text": [
      "+-----------+--------+------------------+----------+--------------+----------------+------------+--------------+---------------+--------------+----------+--------+--------+-------+-------+\n",
      "|Summons_num|Plate_ID|Registration_State|Issue_Date|Violation_Code|Vehicle_BodyType|Vehicle_Make|Violation_Prec|Issuer_Precinct|Violation_Time|Issue_Date|TimeAbbr|TimeHour|MinHour|buckets|\n",
      "+-----------+--------+------------------+----------+--------------+----------------+------------+--------------+---------------+--------------+----------+--------+--------+-------+-------+\n",
      "| 8478629828| 66623ME|                NY|2017-06-14|            47|            REFG|       MITSU|            14|             14|          1120|2017-06-14|       A|      11|     20|    2.0|\n",
      "| 5096917368| FZD8593|                NY|2017-06-13|             7|            SUBN|       ME/BE|             0|              0|          0852|2017-06-13|       P|      20|     52|    5.0|\n",
      "| 1407740258| 2513JMG|                NY|2017-01-11|            78|            DELV|       FRUEH|           106|            106|          0015|2017-01-11|       A|       0|     15|    0.0|\n",
      "| 1413656420|T672371C|                NY|2017-02-04|            40|            TAXI|       TOYOT|            73|             73|          0525|2017-02-04|       A|       5|     25|    1.0|\n",
      "| 8480309064| 51771JW|                NY|2017-01-26|            64|             VAN|       INTER|            17|             17|          0256|2017-01-26|       P|      14|     56|    3.0|\n",
      "+-----------+--------+------------------+----------+--------------+----------------+------------+--------------+---------------+--------------+----------+--------+--------+-------+-------+\n",
      "only showing top 5 rows\n",
      "\n"
     ]
    }
   ],
   "source": [
    "nycDF1.show(5)"
   ]
  },
  {
   "cell_type": "markdown",
   "metadata": {},
   "source": [
    "### Ques 6. Let’s try and find some seasonality in this data:\n",
    "\n",
    "First, divide the year into a certain number of seasons, and find the frequencies of tickets for each season. (Hint: Use Issue Date to segregate into seasons.)\n",
    "\n",
    "Then, find the three most common violations for each of these seasons.\n",
    "(Hint: You can use an approach similar to the one mentioned in the hint for question 4.)"
   ]
  },
  {
   "cell_type": "markdown",
   "metadata": {},
   "source": [
    "#### Assumptions base on NYC Weather Facts\n",
    "\n",
    "###### Fall Season. September, October, November. ...\n",
    "###### Winter Season. December, January, February. ...\n",
    "###### Spring Season. March, April, May. ...\n",
    "###### Summer Season. June, July, August. ..."
   ]
  },
  {
   "cell_type": "code",
   "execution_count": 37,
   "metadata": {},
   "outputs": [],
   "source": [
    "nycDF.createOrReplaceTempView(\"nycDF_SQL\")"
   ]
  },
  {
   "cell_type": "code",
   "execution_count": 38,
   "metadata": {},
   "outputs": [
    {
     "name": "stdout",
     "output_type": "stream",
     "text": [
      "+--------+\n",
      "|count(1)|\n",
      "+--------+\n",
      "| 5431918|\n",
      "+--------+\n",
      "\n"
     ]
    }
   ],
   "source": [
    "spark.sql(\"select count(1) from nycDF_SQL\").show()"
   ]
  },
  {
   "cell_type": "code",
   "execution_count": 39,
   "metadata": {},
   "outputs": [
    {
     "name": "stdout",
     "output_type": "stream",
     "text": [
      "+-----------+--------+------------------+----------+--------------+----------------+------------+--------------+---------------+--------------+----------+--------+--------+-------+\n",
      "|Summons_num|Plate_ID|Registration_State|Issue_Date|Violation_Code|Vehicle_BodyType|Vehicle_Make|Violation_Prec|Issuer_Precinct|Violation_Time|Issue_Date|TimeAbbr|TimeHour|MinHour|\n",
      "+-----------+--------+------------------+----------+--------------+----------------+------------+--------------+---------------+--------------+----------+--------+--------+-------+\n",
      "| 8509075645| GZJ9338|                NY|2017-04-11|            20|            SUBN|       HYUND|             1|              1|          1255|2017-04-11|       P|      12|     55|\n",
      "| 8508901987|   82484|                NY|2017-03-28|            31|            SUBN|       ME/BE|             6|              6|          0544|2017-03-28|       P|      17|     44|\n",
      "| 8526478370| GXB2290|                NY|2017-06-19|            71|            SUBN|       ACURA|            46|             46|          0132|2017-06-19|       P|      13|     32|\n",
      "| 1405876748| HLB7783|                NY|2017-04-13|            19|             SDN|       ACURA|           103|            103|          0120|2017-04-13|       P|      13|     20|\n",
      "| 5095692880| HFJ3536|                NY|2017-03-20|             7|             VAN|        FORD|             0|              0|          0406|2017-03-20|       A|       4|     06|\n",
      "| 4634724443| GRH8565|                NY|2017-06-05|            36|            4DSD|       HONDA|             0|              0|          1116|2017-06-05|       A|      11|     16|\n",
      "| 8572357002| HCD4948|                NY|2017-06-23|            20|            4DSD|        FORD|            67|             67|          0751|2017-06-23|       A|       7|     51|\n",
      "| 8551163206|T703801C|                NY|2017-06-09|            14|            4DSD|       TOYOT|            68|             68|          0304|2017-06-09|       P|      15|     04|\n",
      "| 8492662086| RUMYDAD|                NY|2017-02-19|            71|            PICK|        FORD|            19|             19|          0755|2017-02-19|       A|       7|     55|\n",
      "| 4634425622| EGN3334|                NY|2017-05-26|            36|            SUBN|       NISSA|             0|              0|          1102|2017-05-26|       A|      11|     02|\n",
      "+-----------+--------+------------------+----------+--------------+----------------+------------+--------------+---------------+--------------+----------+--------+--------+-------+\n",
      "\n"
     ]
    }
   ],
   "source": [
    "spark.sql(\"select * from nycDF_SQL limit 10\").show()"
   ]
  },
  {
   "cell_type": "code",
   "execution_count": 41,
   "metadata": {},
   "outputs": [
    {
     "name": "stdout",
     "output_type": "stream",
     "text": [
      "+-----------+--------+------------------+----------+--------------+----------------+------------+--------------+---------------+--------------+----------+--------+--------+-------+\n",
      "|Summons_num|Plate_ID|Registration_State|Issue_Date|Violation_Code|Vehicle_BodyType|Vehicle_Make|Violation_Prec|Issuer_Precinct|Violation_Time|Issue_Date|TimeAbbr|TimeHour|MinHour|\n",
      "+-----------+--------+------------------+----------+--------------+----------------+------------+--------------+---------------+--------------+----------+--------+--------+-------+\n",
      "| 8478629828| 66623ME|                NY|2017-06-14|            47|            REFG|       MITSU|            14|             14|           112|2017-06-14|       A|      11|     20|\n",
      "| 5096917368| FZD8593|                NY|2017-06-13|             7|            SUBN|       ME/BE|             0|              0|           085|2017-06-13|       P|      20|     52|\n",
      "| 1407740258| 2513JMG|                NY|2017-01-11|            78|            DELV|       FRUEH|           106|            106|           001|2017-01-11|       A|       0|     15|\n",
      "| 1413656420|T672371C|                NY|2017-02-04|            40|            TAXI|       TOYOT|            73|             73|           052|2017-02-04|       A|       5|     25|\n",
      "| 8480309064| 51771JW|                NY|2017-01-26|            64|             VAN|       INTER|            17|             17|           025|2017-01-26|       P|      14|     56|\n",
      "+-----------+--------+------------------+----------+--------------+----------------+------------+--------------+---------------+--------------+----------+--------+--------+-------+\n",
      "only showing top 5 rows\n",
      "\n"
     ]
    }
   ],
   "source": [
    "nycDF = nycDF.withColumn(\"Violation_Time\",expr(\"substring(Violation_Time, 1, length(Violation_Time)-1)\"))\n",
    "nycDF.show(5)"
   ]
  },
  {
   "cell_type": "code",
   "execution_count": 42,
   "metadata": {
    "scrolled": true
   },
   "outputs": [
    {
     "data": {
      "text/plain": [
       "['Summons_num',\n",
       " 'Plate_ID',\n",
       " 'Registration_State',\n",
       " 'Issue_Date',\n",
       " 'Violation_Code',\n",
       " 'Vehicle_BodyType',\n",
       " 'Vehicle_Make',\n",
       " 'Violation_Prec',\n",
       " 'Issuer_Precinct',\n",
       " 'Violation_Time',\n",
       " 'Issue_Date',\n",
       " 'TimeAbbr',\n",
       " 'TimeHour',\n",
       " 'MinHour']"
      ]
     },
     "execution_count": 42,
     "metadata": {},
     "output_type": "execute_result"
    }
   ],
   "source": [
    "nycDF.columns"
   ]
  },
  {
   "cell_type": "markdown",
   "metadata": {},
   "source": [
    "### Ques 7. The fines collected from all the instances of parking violation constitute a source of revenue for the NYC Police Department. Let’s take an example of estimating this for the three most commonly occurring codes:\n",
    "*---> Find the total occurrences of the three most common violation codes."
   ]
  },
  {
   "cell_type": "code",
   "execution_count": 43,
   "metadata": {},
   "outputs": [
    {
     "name": "stdout",
     "output_type": "stream",
     "text": [
      "+--------------+------+\n",
      "|Violation_Code| count|\n",
      "+--------------+------+\n",
      "|            21|768087|\n",
      "|            36|662765|\n",
      "|            38|542079|\n",
      "+--------------+------+\n",
      "\n"
     ]
    }
   ],
   "source": [
    "### Listing the Top 3 Voilations.\n",
    "topViolations = nycDF.select('Violation_Code').groupBy(nycDF['Violation_Code'] \n",
    "                                                         ).count().sort(col(\"count\").desc()).limit(3)\n",
    "topViolations.show()"
   ]
  },
  {
   "cell_type": "markdown",
   "metadata": {},
   "source": [
    "#### The top 3 Voilation codes are 21, 36 and 38, following are the fines for these Parking Tickets Source(https://www1.nyc.gov/site/finance/vehicles/services-violation-codes.page), by averaging out the NY Metropolitan Area and other Areas \n",
    "\n",
    "Code: 21, Fine: $55\n",
    "\n",
    "Code: 36, Fine: $50\n",
    "\n",
    "Code: 38, Fine: $50\n"
   ]
  },
  {
   "cell_type": "code",
   "execution_count": 44,
   "metadata": {},
   "outputs": [
    {
     "data": {
      "text/plain": [
       "[('Violation_Code', 'string'), ('count', 'bigint')]"
      ]
     },
     "execution_count": 44,
     "metadata": {},
     "output_type": "execute_result"
    }
   ],
   "source": [
    "topViolations.dtypes"
   ]
  },
  {
   "cell_type": "code",
   "execution_count": 45,
   "metadata": {},
   "outputs": [
    {
     "name": "stdout",
     "output_type": "stream",
     "text": [
      "+--------------+------+-------------+\n",
      "|Violation_Code| count|Total_Penalty|\n",
      "+--------------+------+-------------+\n",
      "|            21|768087|     42244785|\n",
      "|            36|662765|     33138250|\n",
      "|            38|542079|     27103950|\n",
      "+--------------+------+-------------+\n",
      "\n"
     ]
    }
   ],
   "source": [
    "#nycDF = nycDF.withColumn('Registration State', when(nycDF['Registration State'] == '99', \n",
    " #                                                   lit(maxCountCity)).otherwise(nycDF['Registration State']))\n",
    "topViolations = topViolations.withColumn('Total_Penalty', when(topViolations['Violation_Code'] == '21', topViolations['count'] * 55).otherwise \\\n",
    "                                        (when(topViolations['Violation_Code'] == '36', topViolations['count'] * 50).otherwise \\\n",
    "                                       (when(topViolations['Violation_Code'] == '38', topViolations['count'] * 50))))\n",
    "topViolations.show()"
   ]
  }
 ],
 "metadata": {
  "kernelspec": {
   "display_name": "PySpark",
   "language": "python",
   "name": "pyspark"
  },
  "language_info": {
   "codemirror_mode": {
    "name": "ipython",
    "version": 3
   },
   "file_extension": ".py",
   "mimetype": "text/x-python",
   "name": "python",
   "nbconvert_exporter": "python",
   "pygments_lexer": "ipython3",
   "version": "3.6.5"
  }
 },
 "nbformat": 4,
 "nbformat_minor": 2
}
